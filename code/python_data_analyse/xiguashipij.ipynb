{
 "cells": [
  {
   "cell_type": "code",
   "execution_count": 29,
   "metadata": {},
   "outputs": [],
   "source": [
    "import jieba\n"
   ]
  },
  {
   "cell_type": "code",
   "execution_count": 30,
   "metadata": {},
   "outputs": [],
   "source": [
    "text = '苗族分布在我国西南数省区。按方言划分，大致可分为湘西方言区、黔东方言区、川滇黔方言区。黔东南清水江流域一带是全国苗族最大的聚居区，大致包括凯里、剑河、黄平、台江、雷山、丹寨、施秉、黄平、镇远、三穗，以及广西三江和湖南靖县等地。在此广大苗族聚居区普遍流传着一种以创世为主体内容的诗体神话，俗称“古歌”或“古歌古词”。 苗族古歌内容包罗万象，从宇宙的诞生、人类和物种的起源、开天辟地、初民时期的滔天洪水，到苗族的大迁徙、苗族的古代社会制度和日常生产生活等，无所不包，成为苗族古代神话的总汇。 苗族古歌古词神话大多在鼓社祭、婚丧活动、亲友聚会和节日等场合演唱，演唱者多为中老年人、巫师、歌手等。酒席是演唱古歌的重要场合。苗族的古歌古词神话是一个民族的心灵记忆，是苗族古代社会的百科全书和“经典”，具有史学、民族学、哲学、人类学等多方面价值。今天，这些古歌古词神话还在民间流传唱诵。 但由于受到现代文化和市场经济的冲击，苗族古歌已濒临失传。以台江为例，在全县13万苗族同胞中，能唱完整部古歌的已寥寥无几，目前只有二百余人能唱一些不完整的古歌，而且都是中老年人，传承古歌较多的老人年事已高。如不抓紧抢救保护，苗族古歌这一民族瑰宝将最终在世间消失。'"
   ]
  },
  {
   "cell_type": "code",
   "execution_count": 31,
   "metadata": {},
   "outputs": [
    {
     "name": "stdout",
     "output_type": "stream",
     "text": [
      "苗族 分布 在 我国 西南 数 省区 。 按 方言 划分 ， 大致 可 分为 湘西 方言 区 、 黔 东方 言区 、 川滇黔 方言 区 。 黔东南 清水江 流域 一带 是 全国 苗族 最大 的 聚居区 ， 大致 包括 凯里 、 剑 河 、 黄平 、 台江 、 雷山 、 丹寨 、 施秉 、 黄平 、 镇远 、 三穗 ， 以及 广西 三江 和 湖 南靖县 等 地 。 在 此 广大 苗族 聚居区 普遍 流传 着 一种 以 创世 为 主体 内容 的 诗体 神话 ， 俗称 “ 古歌 ” 或 “ 古歌 古词 ” 。   苗族 古歌 内容 包罗万象 ， 从 宇宙 的 诞生 、 人类 和 物种 的 起源 、 开天辟地 、 初民 时期 的 滔天 洪水 ， 到 苗族 的 大 迁徙 、 苗族 的 古代 社会制度 和 日常 生产 生活 等 ， 无所不包 ， 成为 苗族 古代 神话 的 总汇 。   苗族 古歌 古词 神话 大多 在 鼓社 祭 、 婚丧 活动 、 亲友 聚会 和 节日 等 场合 演唱 ， 演唱者 多为 中老年人 、 巫师 、 歌手 等 。 酒席 是 演唱 古歌 的 重要 场合 。 苗族 的 古歌 古词 神话 是 一个 民族 的 心灵 记忆 ， 是 苗族 古代 社会 的 百科全书 和 “ 经典 ” ， 具有 史学 、 民族学 、 哲学 、 人类学 等 多方面 价值 。 今天 ， 这些 古歌 古词 神话 还 在 民间 流传 唱诵 。   但 由于 受到 现代 文化 和 市场经济 的 冲击 ， 苗族 古歌 已 濒临 失传 。 以 台江 为例 ， 在 全县 13 万 苗族 同胞 中 ， 能 唱 完整 部 古歌 的 已 寥寥无几 ， 目前 只有 二百余 人能 唱 一些 不 完整 的 古歌 ， 而且 都 是 中老年人 ， 传承 古歌 较 多 的 老人 年事已高 。 如 不 抓紧 抢救 保护 ， 苗族 古歌 这一 民族 瑰宝 将 最终 在 世间 消失 。\n"
     ]
    }
   ],
   "source": [
    "word_list = jieba.cut(text)\n",
    "print(\" \".join(word_list))\n",
    "corpus = \" \".join(word_list)"
   ]
  },
  {
   "cell_type": "code",
   "execution_count": 32,
   "metadata": {},
   "outputs": [],
   "source": [
    "def stopwordslist(filepath):\n",
    "    stopwords = [line.strip() for line in open(filepath).readlines()]\n",
    "    return stopwords\n",
    "def filter_seg_list(seg_list):\n",
    "    stop_words = stopwordslist('/Users/renweiqiang/Desktop/毕业论文/学习总结/LDA_Python/文本预处理/stop_words.txt')\n",
    "    filter_seg = []\n",
    "    for word in seg_list:\n",
    "        if word not in stop_words:\n",
    "            filter_seg.append(word)\n",
    "    filter_seg =  [i for i in filter_seg if i != '']\n",
    "    return filter_seg\n",
    "def filter_number_and_single(word):\n",
    "    if(word.isdigit()):\n",
    "        return False\n",
    "    length = len(word)\n",
    "    if(length not  in [0, 1]):\n",
    "        return word\n",
    "    return False"
   ]
  },
  {
   "cell_type": "code",
   "execution_count": 33,
   "metadata": {},
   "outputs": [
    {
     "name": "stdout",
     "output_type": "stream",
     "text": [
      "苗族 分布 我国 西南 省区 方言 划分 大致 分为 湘西 方言 东方 言区 川滇黔 方言 黔东南 清水江 流域 一带 全国 苗族 聚居区 大致 包括 凯里 黄平 台江 雷山 丹寨 施秉 黄平 镇远 三穗 广西 三江 南靖县 苗族 聚居区 流传 一种 创世 主体 内容 诗体 神话 俗称 古歌 古歌 古词 苗族 古歌 内容 包罗万象 宇宙 诞生 人类 物种 起源 开天辟地 初民 时期 滔天 洪水 苗族 迁徙 苗族 古代 社会制度 日常 生产 生活 无所不包 苗族 古代 神话 总汇 苗族 古歌 古词 神话 大多 鼓社 婚丧 活动 亲友 聚会 节日 场合 演唱 演唱者 多为 中老年人 巫师 歌手 酒席 演唱 古歌 场合 苗族 古歌 古词 神话 一个 民族 心灵 记忆 苗族 古代 社会 百科全书 经典 史学 民族学 哲学 人类学 多方面 价值 古歌 古词 神话 民间 流传 唱诵 文化 市场经济 冲击 苗族 古歌 濒临 失传 台江 为例 全县 苗族 同胞 完整 古歌 寥寥无几 二百余 人能 完整 古歌 中老年人 传承 古歌 老人 年事已高 抓紧 抢救 保护 苗族 古歌 这一 民族 瑰宝 最终 世间 消失\n"
     ]
    }
   ],
   "source": [
    "keywords = filter_seg_list(jieba.cut(text)) # 去除停用词\n",
    "keywords = [j for j in keywords if filter_number_and_single(j) != False]\n",
    "corpus = []\n",
    "corpus.append(\" \".join(keywords))\n",
    "print( \" \".join(keywords))"
   ]
  },
  {
   "cell_type": "code",
   "execution_count": 23,
   "metadata": {},
   "outputs": [
    {
     "name": "stdout",
     "output_type": "stream",
     "text": [
      "古歌 苗族 古词 神话 黄平 台江 方言 中老年人 聚居区 古代 演唱 场合 流传 三穗 大致 完整 初民 南靖县 言区 丹寨\n"
     ]
    }
   ],
   "source": [
    "# TF-IDF算法提取关键词\n",
    "import jieba.analyse\n",
    "jieba_keywords_text = \" \".join(keywords)\n",
    "topK = 20\n",
    "withWeight = False\n",
    "tags = jieba.analyse.extract_tags(jieba_keywords_text, topK=topK, withWeight=withWeight)\n",
    "print(\" \".join(tags))"
   ]
  },
  {
   "cell_type": "code",
   "execution_count": 27,
   "metadata": {},
   "outputs": [
    {
     "name": "stdout",
     "output_type": "stream",
     "text": [
      "\n"
     ]
    }
   ],
   "source": [
    "# 不去除停用词后的数据\n",
    "#import jieba.analyse\n",
    "jieba_keywords_text = \" \".join(word_list)\n",
    "topK = 20\n",
    "withWeight = False\n",
    "tags = jieba.analyse.extract_tags(jieba_keywords_text, topK=topK, withWeight=withWeight)#直接调用\n",
    "#print(\" \".join(tags))\n",
    "print(\" \".join(word_list))"
   ]
  },
  {
   "cell_type": "code",
   "execution_count": 28,
   "metadata": {},
   "outputs": [
    {
     "name": "stdout",
     "output_type": "stream",
     "text": [
      "\n"
     ]
    }
   ],
   "source": [
    "print(\" \".join(word_list))"
   ]
  },
  {
   "cell_type": "code",
   "execution_count": 16,
   "metadata": {},
   "outputs": [],
   "source": [
    "\n",
    "from sklearn import feature_extraction\n",
    "from sklearn.feature_extraction.text import TfidfTransformer\n",
    "from sklearn.feature_extraction.text import CountVectorizer\n"
   ]
  },
  {
   "cell_type": "code",
   "execution_count": 17,
   "metadata": {},
   "outputs": [],
   "source": [
    "vectorizer=CountVectorizer()#该类会将文本中的词语转换为词频矩阵，矩阵元素a[i][j] 表示j词在i类文本下的词频\n",
    "transformer=TfidfTransformer()#该类会统计每个词语的tf-idf权值\n",
    "tfidf=transformer.fit_transform(vectorizer.fit_transform(corpus))#第一个fit_transform是计算tf-idf，第二个fit_transform是将文本转为词频矩阵\n",
    "word=vectorizer.get_feature_names()#获取词袋模型中的所有词语\n",
    "weight=tfidf.toarray()#将tf-idf矩阵抽取出来，元素a[i][j]表示j词在i类文本中的tf-idf权重\n"
   ]
  },
  {
   "cell_type": "code",
   "execution_count": 20,
   "metadata": {},
   "outputs": [
    {
     "name": "stdout",
     "output_type": "stream",
     "text": [
      "一个 0.044194173824159216\n",
      "一带 0.044194173824159216\n",
      "一种 0.044194173824159216\n",
      "三江 0.044194173824159216\n",
      "三穗 0.044194173824159216\n",
      "世间 0.044194173824159216\n",
      "东方 0.044194173824159216\n",
      "中老年人 0.08838834764831843\n",
      "丹寨 0.044194173824159216\n",
      "为例 0.044194173824159216\n",
      "主体 0.044194173824159216\n",
      "二百余 0.044194173824159216\n",
      "亲友 0.044194173824159216\n",
      "人类 0.044194173824159216\n",
      "人类学 0.044194173824159216\n",
      "人能 0.044194173824159216\n",
      "价值 0.044194173824159216\n",
      "传承 0.044194173824159216\n",
      "俗称 0.044194173824159216\n",
      "保护 0.044194173824159216\n",
      "全县 0.044194173824159216\n",
      "全国 0.044194173824159216\n",
      "内容 0.08838834764831843\n",
      "冲击 0.044194173824159216\n",
      "凯里 0.044194173824159216\n",
      "分为 0.044194173824159216\n",
      "分布 0.044194173824159216\n",
      "划分 0.044194173824159216\n",
      "创世 0.044194173824159216\n",
      "初民 0.044194173824159216\n",
      "包括 0.044194173824159216\n",
      "包罗万象 0.044194173824159216\n",
      "南靖县 0.044194173824159216\n",
      "古代 0.13258252147247765\n",
      "古歌 0.5303300858899106\n",
      "古词 0.17677669529663687\n",
      "台江 0.08838834764831843\n",
      "史学 0.044194173824159216\n",
      "同胞 0.044194173824159216\n",
      "哲学 0.044194173824159216\n",
      "唱诵 0.044194173824159216\n",
      "场合 0.08838834764831843\n",
      "多为 0.044194173824159216\n",
      "多方面 0.044194173824159216\n",
      "大多 0.044194173824159216\n",
      "大致 0.08838834764831843\n",
      "失传 0.044194173824159216\n",
      "婚丧 0.044194173824159216\n",
      "宇宙 0.044194173824159216\n",
      "完整 0.08838834764831843\n",
      "寥寥无几 0.044194173824159216\n",
      "川滇黔 0.044194173824159216\n",
      "巫师 0.044194173824159216\n",
      "市场经济 0.044194173824159216\n",
      "年事已高 0.044194173824159216\n",
      "广西 0.044194173824159216\n",
      "开天辟地 0.044194173824159216\n",
      "心灵 0.044194173824159216\n",
      "总汇 0.044194173824159216\n",
      "我国 0.044194173824159216\n",
      "抓紧 0.044194173824159216\n",
      "抢救 0.044194173824159216\n",
      "文化 0.044194173824159216\n",
      "方言 0.13258252147247765\n",
      "施秉 0.044194173824159216\n",
      "无所不包 0.044194173824159216\n",
      "日常 0.044194173824159216\n",
      "时期 0.044194173824159216\n",
      "最终 0.044194173824159216\n",
      "歌手 0.044194173824159216\n",
      "民族 0.08838834764831843\n",
      "民族学 0.044194173824159216\n",
      "民间 0.044194173824159216\n",
      "洪水 0.044194173824159216\n",
      "活动 0.044194173824159216\n",
      "流传 0.08838834764831843\n",
      "流域 0.044194173824159216\n",
      "消失 0.044194173824159216\n",
      "清水江 0.044194173824159216\n",
      "湘西 0.044194173824159216\n",
      "滔天 0.044194173824159216\n",
      "演唱 0.08838834764831843\n",
      "演唱者 0.044194173824159216\n",
      "濒临 0.044194173824159216\n",
      "物种 0.044194173824159216\n",
      "瑰宝 0.044194173824159216\n",
      "生产 0.044194173824159216\n",
      "生活 0.044194173824159216\n",
      "百科全书 0.044194173824159216\n",
      "省区 0.044194173824159216\n",
      "社会 0.044194173824159216\n",
      "社会制度 0.044194173824159216\n",
      "神话 0.22097086912079608\n",
      "经典 0.044194173824159216\n",
      "老人 0.044194173824159216\n",
      "聚会 0.044194173824159216\n",
      "聚居区 0.08838834764831843\n",
      "节日 0.044194173824159216\n",
      "苗族 0.5745242597140698\n",
      "西南 0.044194173824159216\n",
      "言区 0.044194173824159216\n",
      "记忆 0.044194173824159216\n",
      "诗体 0.044194173824159216\n",
      "诞生 0.044194173824159216\n",
      "起源 0.044194173824159216\n",
      "迁徙 0.044194173824159216\n",
      "这一 0.044194173824159216\n",
      "酒席 0.044194173824159216\n",
      "镇远 0.044194173824159216\n",
      "雷山 0.044194173824159216\n",
      "黄平 0.08838834764831843\n",
      "黔东南 0.044194173824159216\n",
      "鼓社 0.044194173824159216\n"
     ]
    }
   ],
   "source": [
    "for i in range(len(weight)):#打印每类文本的tf-idf词语权重，第一个for遍历所有文本，第二个for便利某一类文本下的词语权重\n",
    "    #print u\"-------这里输出第\",i,u\"类文本的词语tf-idf权重------\"\n",
    "    for j in range(len(word)):\n",
    "        print(word[j],weight[i][j])\n"
   ]
  },
  {
   "cell_type": "code",
   "execution_count": null,
   "metadata": {},
   "outputs": [],
   "source": []
  }
 ],
 "metadata": {
  "kernelspec": {
   "display_name": "Python 3",
   "language": "python",
   "name": "python3"
  },
  "language_info": {
   "codemirror_mode": {
    "name": "ipython",
    "version": 3
   },
   "file_extension": ".py",
   "mimetype": "text/x-python",
   "name": "python",
   "nbconvert_exporter": "python",
   "pygments_lexer": "ipython3",
   "version": "3.7.1"
  }
 },
 "nbformat": 4,
 "nbformat_minor": 2
}
